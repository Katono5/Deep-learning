{
 "cells": [
  {
   "cell_type": "code",
   "execution_count": 2,
   "metadata": {
    "collapsed": true
   },
   "outputs": [],
   "source": [
    "import numpy as np\n",
    "import torch"
   ]
  },
  {
   "cell_type": "code",
   "execution_count": 3,
   "outputs": [
    {
     "name": "stdout",
     "output_type": "stream",
     "text": [
      "tensor([[6.8878e-39, 1.0653e-38, 1.0102e-38],\n",
      "        [8.4490e-39, 9.6428e-39, 1.1112e-38],\n",
      "        [9.5511e-39, 1.0102e-38, 1.0286e-38],\n",
      "        [1.0194e-38, 9.6429e-39, 9.2755e-39],\n",
      "        [9.1837e-39, 9.3674e-39, 1.0745e-38]])\n"
     ]
    }
   ],
   "source": [
    "#  创建未初始化的shape为5*3的Tensor\n",
    "x = torch.empty(5, 3)\n",
    "print(x)"
   ],
   "metadata": {
    "collapsed": false
   }
  },
  {
   "cell_type": "code",
   "execution_count": 4,
   "outputs": [
    {
     "name": "stdout",
     "output_type": "stream",
     "text": [
      "tensor([[0.0341, 0.2135, 0.5196],\n",
      "        [0.9246, 0.2513, 0.3087],\n",
      "        [0.7444, 0.2932, 0.1207],\n",
      "        [0.3425, 0.7281, 0.8300],\n",
      "        [0.7456, 0.8314, 0.2793]])\n"
     ]
    }
   ],
   "source": [
    "# 创建随机初始化的shape为5*3的Tensor\n",
    "x = torch.rand(5, 3) # rand 范围为[0, 1]\n",
    "print(x)"
   ],
   "metadata": {
    "collapsed": false
   }
  },
  {
   "cell_type": "code",
   "execution_count": 5,
   "outputs": [
    {
     "name": "stdout",
     "output_type": "stream",
     "text": [
      "tensor([[0, 0, 0],\n",
      "        [0, 0, 0],\n",
      "        [0, 0, 0],\n",
      "        [0, 0, 0],\n",
      "        [0, 0, 0]])\n"
     ]
    }
   ],
   "source": [
    "# 创建一个全0的Tensor\n",
    "z = torch.zeros(5, 3, dtype=torch.long)\n",
    "print(z)"
   ],
   "metadata": {
    "collapsed": false
   }
  },
  {
   "cell_type": "code",
   "execution_count": 6,
   "outputs": [
    {
     "name": "stdout",
     "output_type": "stream",
     "text": [
      "tensor([5.5000, 3.0000])\n"
     ]
    }
   ],
   "source": [
    "# 根据数据直接创建Tensor\n",
    "x = torch.tensor([5.5, 3], dtype=torch.float)\n",
    "print(x)"
   ],
   "metadata": {
    "collapsed": false
   }
  },
  {
   "cell_type": "code",
   "execution_count": 7,
   "outputs": [
    {
     "name": "stdout",
     "output_type": "stream",
     "text": [
      "torch.Size([2])\n",
      "torch.Size([2])\n"
     ]
    }
   ],
   "source": [
    "print(x.size())\n",
    "print(x.shape)"
   ],
   "metadata": {
    "collapsed": false
   }
  },
  {
   "cell_type": "code",
   "execution_count": 8,
   "outputs": [
    {
     "name": "stdout",
     "output_type": "stream",
     "text": [
      "tensor([1, 1, 1, 1, 1])\n"
     ]
    }
   ],
   "source": [
    "y = z[:, 1]\n",
    "y += 1\n",
    "print(y) # 源Tensor也会跟着改变，所以数字越来越大"
   ],
   "metadata": {
    "collapsed": false
   }
  },
  {
   "cell_type": "code",
   "execution_count": 9,
   "outputs": [
    {
     "name": "stdout",
     "output_type": "stream",
     "text": [
      "tensor([0, 1, 0, 0, 1, 0, 0, 1, 0, 0, 1, 0, 0, 1, 0])\n",
      "tensor([[0, 1, 0, 0, 1],\n",
      "        [0, 0, 1, 0, 0],\n",
      "        [1, 0, 0, 1, 0]])\n"
     ]
    }
   ],
   "source": [
    "y = z.view(15)\n",
    "print(y)\n",
    "y = z.view(-1, 5) # -1指的是这个维度可以根据其他维度推出来\n",
    "print(y)"
   ],
   "metadata": {
    "collapsed": false,
    "pycharm": {
     "name": "#%%y\n"
    }
   }
  },
  {
   "cell_type": "markdown",
   "source": [
    "当我们想要一个新的副本（不共享内存相互独立），我们可以用reshape()函数改变形状，但我们用此函数不能保证返回的是其拷贝的tensor,所以我们更推荐先clone一个副本再使用view"
   ],
   "metadata": {
    "collapsed": false
   }
  },
  {
   "cell_type": "code",
   "execution_count": 10,
   "outputs": [
    {
     "name": "stdout",
     "output_type": "stream",
     "text": [
      "tensor([[1, 2, 1, 1, 2],\n",
      "        [1, 1, 2, 1, 1],\n",
      "        [2, 1, 1, 2, 1]])\n",
      "tensor([0, 1, 0, 0, 1, 0, 0, 1, 0, 0, 1, 0, 0, 1, 0])\n"
     ]
    }
   ],
   "source": [
    "y_cp = y.clone().view(15)\n",
    "y += 1\n",
    "print(y)\n",
    "print(y_cp)\n"
   ],
   "metadata": {
    "collapsed": false
   }
  },
  {
   "cell_type": "markdown",
   "source": [
    "# 广播机制\n",
    "当我们用两个不同shape的tensor做运算，可能会触发广播机制，即先适当复制两个tensor使其形状相同再进行运算"
   ],
   "metadata": {
    "collapsed": false
   }
  },
  {
   "cell_type": "code",
   "execution_count": 11,
   "outputs": [
    {
     "name": "stdout",
     "output_type": "stream",
     "text": [
      "tensor([[1, 2]])\n",
      "tensor([[1],\n",
      "        [2],\n",
      "        [3]])\n",
      "tensor([[2, 3],\n",
      "        [3, 4],\n",
      "        [4, 5]])\n"
     ]
    }
   ],
   "source": [
    "x = torch.arange(1, 3).view(1, 2)\n",
    "y = torch.arange(1, 4).view(3, 1)\n",
    "\n",
    "print(x)\n",
    "print(y)\n",
    "\n",
    "print(x+y)"
   ],
   "metadata": {
    "collapsed": false
   }
  },
  {
   "cell_type": "code",
   "execution_count": 12,
   "outputs": [
    {
     "name": "stdout",
     "output_type": "stream",
     "text": [
      "tensor([1., 1., 1., 1.])\n",
      "[1. 1. 1. 1.]\n",
      "tensor([2., 2., 2., 2.])\n",
      "[2. 2. 2. 2.]\n",
      "tensor([3., 3., 3., 3.])\n",
      "[3. 3. 3. 3.]\n"
     ]
    }
   ],
   "source": [
    "# tensor 和 numpy之间的互换\n",
    "a = torch.ones(4)\n",
    "b = a.numpy()\n",
    "print(a)\n",
    "print(b)\n",
    "a += 1\n",
    "print(a)\n",
    "print(b)\n",
    "b += 1\n",
    "print(a)\n",
    "print(b)"
   ],
   "metadata": {
    "collapsed": false
   }
  },
  {
   "cell_type": "code",
   "execution_count": 13,
   "outputs": [
    {
     "name": "stdout",
     "output_type": "stream",
     "text": [
      "[1. 1. 1. 1.] tensor([1., 1., 1., 1.], dtype=torch.float64)\n"
     ]
    }
   ],
   "source": [
    "a = np.ones(4)\n",
    "b = torch.from_numpy(a)\n",
    "print(a, b)"
   ],
   "metadata": {
    "collapsed": false
   }
  },
  {
   "cell_type": "code",
   "execution_count": 18,
   "outputs": [
    {
     "name": "stdout",
     "output_type": "stream",
     "text": [
      "tensor(6)\n"
     ]
    }
   ],
   "source": [
    "x = torch.tensor([2, 1])\n",
    "y = torch.tensor([2, 2])\n",
    "z = torch.matmul(x, y)\n",
    "print(z)"
   ],
   "metadata": {
    "collapsed": false
   }
  }
 ],
 "metadata": {
  "kernelspec": {
   "display_name": "Python 3",
   "language": "python",
   "name": "python3"
  },
  "language_info": {
   "codemirror_mode": {
    "name": "ipython",
    "version": 2
   },
   "file_extension": ".py",
   "mimetype": "text/x-python",
   "name": "python",
   "nbconvert_exporter": "python",
   "pygments_lexer": "ipython2",
   "version": "2.7.6"
  }
 },
 "nbformat": 4,
 "nbformat_minor": 0
}
