{
 "cells": [
  {
   "cell_type": "code",
   "execution_count": 3,
   "outputs": [
    {
     "name": "stdout",
     "output_type": "stream",
     "text": [
      "1.13.0\n",
      "True\n",
      "tensor([[ 1.2955, -1.5694,  0.5075,  ..., -0.2906, -0.1682, -0.5837],\n",
      "        [ 2.5299,  1.0550, -0.8601,  ...,  0.6747, -2.1697, -0.9547],\n",
      "        [ 1.4518, -0.7689,  0.5799,  ..., -0.3670,  1.9537, -2.3454],\n",
      "        ...,\n",
      "        [-1.2146,  0.7101,  0.4965,  ...,  0.5240, -0.3242,  0.7821],\n",
      "        [ 0.9410, -1.0559, -1.0886,  ..., -0.2211, -0.8319,  3.8158],\n",
      "        [-0.2719,  1.0463,  0.6932,  ...,  1.4020, -0.3865,  0.9531]])\n",
      "tensor([[-7.6368e-01,  5.4533e-04,  6.3869e-01,  ...,  1.9057e-01,\n",
      "          3.5469e-01,  2.1302e-01],\n",
      "        [ 5.0872e-02, -1.9517e-01,  2.0536e-01,  ..., -2.6769e-01,\n",
      "          9.0115e-01, -1.6780e+00],\n",
      "        [ 1.2869e+00, -1.9171e-01, -1.4041e+00,  ...,  7.1393e-01,\n",
      "          1.7104e+00, -7.8553e-01],\n",
      "        ...,\n",
      "        [ 1.1021e+00,  6.7650e-01, -1.6953e-01,  ...,  5.6324e-01,\n",
      "         -3.3188e-01,  2.0026e+00],\n",
      "        [ 3.1847e-01, -2.7512e-01,  1.6981e+00,  ..., -1.8286e-01,\n",
      "         -1.1563e-01,  8.1707e-01],\n",
      "        [ 1.5270e+00, -1.3780e+00, -9.3847e-02,  ..., -7.4588e-01,\n",
      "         -6.0533e-01,  2.6877e-01]])\n",
      "cpu 1.272233247756958 tensor(312636.7812)\n",
      "cuda\n",
      "cuda:0 2.130857467651367 tensor(316134.1562, device='cuda:0')\n",
      "cuda:0 0.0010104179382324219 tensor(316134.1562, device='cuda:0')\n"
     ]
    }
   ],
   "source": [
    "import torch\n",
    "import time\n",
    "from torch import autograd\n",
    "#GPU加速\n",
    "print(torch.__version__)\n",
    "print(torch.cuda.is_available())\n",
    "\n",
    "a=torch.randn(10000,1000)\n",
    "b=torch.randn(1000,10000)\n",
    "print(a)\n",
    "print(b)\n",
    "t0=time.time()\n",
    "c=torch.matmul(a,b)\n",
    "t1=time.time()\n",
    "\n",
    "print(a.device,t1-t0,c.norm(2))\n",
    "\n",
    "device=torch.device('cuda')\n",
    "print(device)\n",
    "a=a.to(device)\n",
    "b=b.to(device)\n",
    "\n",
    "t0=time.time()\n",
    "c=torch.matmul(a,b)\n",
    "t2=time.time()\n",
    "print(a.device,t2-t0,c.norm(2))\n",
    "\n",
    "\n",
    "t0=time.time()\n",
    "c=torch.matmul(a,b)\n",
    "t2=time.time()\n",
    "\n",
    "print(a.device,t2-t0,c.norm(2))"
   ],
   "metadata": {
    "collapsed": false
   }
  }
 ],
 "metadata": {
  "kernelspec": {
   "display_name": "Python 3",
   "language": "python",
   "name": "python3"
  },
  "language_info": {
   "codemirror_mode": {
    "name": "ipython",
    "version": 2
   },
   "file_extension": ".py",
   "mimetype": "text/x-python",
   "name": "python",
   "nbconvert_exporter": "python",
   "pygments_lexer": "ipython2",
   "version": "2.7.6"
  }
 },
 "nbformat": 4,
 "nbformat_minor": 0
}
