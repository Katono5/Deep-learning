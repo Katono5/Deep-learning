{
 "cells": [
  {
   "cell_type": "code",
   "execution_count": null,
   "metadata": {
    "collapsed": true
   },
   "outputs": [],
   "source": [
    "import pandas as pd\n",
    "import numpy as np\n",
    "from sklearn.datasets import load_iris\n",
    "import matplotlib.pyplot as plt\n",
    "from sklearn.cluster import KMeans\n",
    "from sklearn.decomposition import PCA\n",
    "from sklearn.neighbors import KNeighborsClassifier\n",
    "from sklearn.model_selection import train_test_split\n",
    "from matplotlib.colors import ListedColormap\n",
    "from sklearn.neighbors import RadiusNeighborsClassifier\n",
    "iris_data = load_iris()\n",
    "iris = pd.DataFrame(data=np.c_[iris_data['data'], iris_data['target']],\n",
    "                    columns=iris_data['feature_names'] + ['species'])\n",
    "print(iris.info())\n",
    "# 分离了features 和 label\n",
    "X = iris.iloc[:, :4]\n",
    "y = iris.iloc[:, -1]\n",
    "\n",
    "# 四个feature不容易实现可视化，为了方便用了PCA降维\n",
    "pca_data = PCA(n_components=2).fit_transform(X)\n",
    "result = pd.DataFrame(pca_data, columns=['feature1', 'feature2'])\n",
    "\n",
    "# 以下是聚类\n",
    "km = KMeans(n_clusters=3, max_iter=500)\n",
    "outcome = km.fit_predict(result)\n",
    "print(outcome)\n",
    "result['label'] = outcome\n",
    "\n",
    "# 根据label 判断点的颜色\n",
    "def color(n):\n",
    "    if n == 0:\n",
    "        return 'red'\n",
    "    elif n == 1:\n",
    "        return 'blue'\n",
    "    else:\n",
    "        return 'yellow'\n",
    "for i in range(150):\n",
    "    plt.scatter(result.iloc[i, 0], result.iloc[i, 1], c=color(result.iloc[i, 2]))\n",
    "plt.show()\n",
    "\n",
    "# # 以下是knn\n",
    "# X_train, X_test, y_train, y_test = train_test_split(result, y, test_size=0.2)\n",
    "#\n",
    "# knn = KNeighborsClassifier(n_neighbors=15, weights='uniform')\n",
    "# knn.fit(X_train.iloc[:, :2], y_train)\n",
    "# h = .02\n",
    "#\n",
    "# xx, yy = np.meshgrid(np.arange(-4, 4, h)\n",
    "#                      np.arange(-1.5, 1.5, h))\n",
    "#\n",
    "# cmap_light = ListedColormap(['#f1939c', '#5e616d', '#4e7ca1']) #给不同区域赋以颜色\n",
    "# cmap_bold = ListedColormap(['#FF0000', '#003300', '#0000FF'])#给不同属性的点赋以颜色\n",
    "# y_test = knn.predict(np.c_[xx.ravel(), yy.ravel()])\n",
    "# outcome = knn.predict(X_test)\n",
    "# y_test = y_test.reshape(xx.shape)\n",
    "# plt.figure()\n",
    "# plt.pcolormesh(xx, yy, y_test, cmap=cmap_light)\n",
    "# plt.scatter(X_train.iloc[:, 0], X_train.iloc[:, 1], c=y_train, cmap=cmap_bold)\n",
    "# plt.scatter(X_test.iloc[:, 0], X_test.iloc[:, 1], c=outcome, cmap=ListedColormap(['#74787a', '#f8df72', '#428675']))\n",
    "# plt.show()\n"
   ]
  }
 ],
 "metadata": {
  "kernelspec": {
   "display_name": "Python 3",
   "language": "python",
   "name": "python3"
  },
  "language_info": {
   "codemirror_mode": {
    "name": "ipython",
    "version": 2
   },
   "file_extension": ".py",
   "mimetype": "text/x-python",
   "name": "python",
   "nbconvert_exporter": "python",
   "pygments_lexer": "ipython2",
   "version": "2.7.6"
  }
 },
 "nbformat": 4,
 "nbformat_minor": 0
}
